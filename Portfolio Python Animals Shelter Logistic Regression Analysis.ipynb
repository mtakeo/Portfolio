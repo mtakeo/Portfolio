{
 "cells": [
  {
   "cell_type": "markdown",
   "metadata": {},
   "source": [
    "# Machine Learning - Logistic Regression"
   ]
  },
  {
   "cell_type": "markdown",
   "metadata": {},
   "source": [
    "### Introduction"
   ]
  },
  {
   "cell_type": "markdown",
   "metadata": {},
   "source": [
    "In this section of the portfolio, we will go through a Machine Learning algorithm Logistic Regression to train and test the data. The data set was available from Kaggle.com's Animal Shelter Outcomes competition presented by the Austin Animal Shelter and ASPCA. \n",
    "\n",
    "My goal of this exercise to is create and identify a model that would accurately predict whether a sheltered animal will get adopted based on certain features. Therefore our model target in this algorithm is going to be the binary outcome of whether the animal is adopted (1) or not adopted (0). Also to note, the analysis will focus on cats only. To summarize, the data will have the following features to start off with:\n",
    "- Name\n",
    "- Sex\n",
    "- Outcome\n",
    "- Age\n",
    "- Breed\n",
    "- Color"
   ]
  },
  {
   "cell_type": "markdown",
   "metadata": {},
   "source": [
    "### Imports"
   ]
  },
  {
   "cell_type": "code",
   "execution_count": 1,
   "metadata": {
    "collapsed": true
   },
   "outputs": [],
   "source": [
    "#Data\n",
    "import numpy as np\n",
    "import pandas as pd\n",
    "from pandas import Series,DataFrame\n",
    "\n",
    "#Math\n",
    "import math\n",
    "\n",
    "#Plot\n",
    "import matplotlib.pyplot as plt\n",
    "import seaborn as sns\n",
    "%matplotlib inline\n",
    "\n",
    "#Machine Learning Imports\n",
    "from sklearn.linear_model import LogisticRegression\n",
    "from sklearn.feature_selection import f_regression\n",
    "from sklearn.cross_validation import train_test_split\n",
    "from sklearn import metrics"
   ]
  },
  {
   "cell_type": "markdown",
   "metadata": {},
   "source": [
    "We will first import the raw data"
   ]
  },
  {
   "cell_type": "code",
   "execution_count": 2,
   "metadata": {
    "collapsed": true
   },
   "outputs": [],
   "source": [
    "pets = pd.read_csv('/Users/data.csv')"
   ]
  },
  {
   "cell_type": "markdown",
   "metadata": {},
   "source": [
    "### Data Preparation part 1"
   ]
  },
  {
   "cell_type": "markdown",
   "metadata": {},
   "source": [
    "Before running any algorithms or charting, we will first prepare the data for Logistic Regression."
   ]
  },
  {
   "cell_type": "code",
   "execution_count": null,
   "metadata": {
    "collapsed": false
   },
   "outputs": [],
   "source": [
    "#filter for only cats\n",
    "cats = pets[pets['AnimalType']=='Cat']\n",
    "\n",
    "#create a function for binary adopted outcome based on OutcomeType\n",
    "def adoption_check(x):\n",
    "    if x == 'Adoption':\n",
    "        return 1 \n",
    "    else:\n",
    "        return 0 #Not Adopted\n",
    "    \n",
    "cats['Adopted'] = cats['OutcomeType'].apply(adoption_check)\n",
    "\n",
    "#drop columns that would not add value to the model\n",
    "#OutcomeSubtype contains inconsistent data and certain values are ambiguous\n",
    "cats = cats.drop('OutcomeSubtype', axis=1)\n",
    "#we already know this dataframe are all cats\n",
    "cats = cats.drop('AnimalType', axis=1)\n",
    "#OutcomeType is converted to a binary target column 'Adopted'\n",
    "cats = cats.drop('OutcomeType', axis=1)\n",
    "#Animal ID would not affect the outcome\n",
    "cats = cats.drop('AnimalID', axis=1)\n",
    "#time of which OutcomeType occurred\n",
    "cats = cats.drop('DateTime', axis=1)\n",
    "\n",
    "\n",
    "#convert the name column to binary values\n",
    "cats['Name'].fillna(0, inplace=True)\n",
    "def name_check(x):\n",
    "    if x != 0:\n",
    "        return 1\n",
    "    else:\n",
    "        return 0\n",
    "    \n",
    "cats['Name'] = cats['Name'].apply(name_check)\n",
    "\n",
    "#convert null to unknown\n",
    "cats['AgeuponOutcome'].fillna('Unknown', inplace=True)\n",
    "\n",
    "#split the SexUponOutcome into 2 columns. The sex of the cat and whether they have been neutered or spayed\n",
    "#then convert those into binary. The unknown columns are excluded from the final output to avoid multicollinearity\n",
    "cats['SexuponOutcome'].replace(to_replace='Unknown', value='Unknown Unknown', inplace=True)\n",
    "\n",
    "cats['Sex'] = cats.SexuponOutcome.str.split(' ').str.get(1)\n",
    "cats['Neutered'] = cats.SexuponOutcome.str.split(' ').str.get(0)\n",
    "\n",
    "cats = cats.drop('SexuponOutcome', axis=1)\n",
    "\n",
    "def male_sex_check(x):\n",
    "    if x == 'Male':\n",
    "        return 1\n",
    "    else:\n",
    "        return 0\n",
    "    \n",
    "cats['Male'] = cats['Sex'].apply(male_sex_check)\n",
    "\n",
    "\n",
    "def female_sex_check(x):\n",
    "    if x == 'Female':\n",
    "        return 1\n",
    "    else:\n",
    "        return 0\n",
    "    \n",
    "cats['Female'] = cats['Sex'].apply(female_sex_check)\n",
    "\n",
    "def neutered_check(x):\n",
    "    if x == 'Neutered' or x == 'Spayed':\n",
    "        return 1\n",
    "    else:\n",
    "        return 0\n",
    "    \n",
    "cats['NeuteredSpayed'] = cats['Neutered'].apply(neutered_check)\n",
    "\n",
    "\n",
    "def intact_check(x):\n",
    "    if x == 'Intact':\n",
    "        return 1\n",
    "    else:\n",
    "        return 0\n",
    "    \n",
    "cats['Intact'] = cats['Neutered'].apply(intact_check)"
   ]
  },
  {
   "cell_type": "markdown",
   "metadata": {},
   "source": [
    "The following portion of the data preparation will attempt to categorize and simplify breed type and colors. We will also convert age into years."
   ]
  },
  {
   "cell_type": "code",
   "execution_count": 4,
   "metadata": {
    "collapsed": false
   },
   "outputs": [],
   "source": [
    "#first create a counts bool list for color with low counts\n",
    "color_count = cats['Color'].value_counts()<100\n",
    "low_color_count = []\n",
    "for index, elem in enumerate(color_count):\n",
    "    if elem == True:\n",
    "        low_color_count.append(color_count.index[index])\n",
    "    else:\n",
    "        pass\n",
    "\n",
    "#map this list back to the cats table and change their values to 'unique colors'\n",
    "def unique_color(color):\n",
    "\n",
    "        if color in low_color_count:\n",
    "            return 'Unique Color'\n",
    "        else:\n",
    "            return color\n",
    "    \n",
    "cats['Color'] = cats['Color'].apply(unique_color)\n",
    "\n",
    "#consolidate other colors\n",
    "torbie_tortie_calico = ('Torbie','Tortie','Calico')\n",
    "tabby = ('Blue Tabby','Blue Tabby/White','Brown Tabby','Brown Tabby/White','Cream Tabby','Orange Tabby', \\\n",
    "         'Orange Tabby/White',)\n",
    "black_white = ('White/Black','Black/White')\n",
    "color_general = ('Black','Blue','Blue/White','White','Lynx Point','Seal Point','Unique Color')\n",
    "\n",
    "def color_consolidate(colorcat):\n",
    "    \n",
    "    if colorcat in color_general:\n",
    "        return colorcat\n",
    "    else:\n",
    "        pass\n",
    "        \n",
    "    for color in torbie_tortie_calico:\n",
    "        if color in colorcat:\n",
    "            return 'Torbie/Tortie/Calico'\n",
    "        else: \n",
    "            pass\n",
    "    for color in tabby:\n",
    "        if color in colorcat:\n",
    "            return 'Tabby'\n",
    "        else: \n",
    "            pass\n",
    "    for color in black_white:\n",
    "        if color in colorcat:\n",
    "            return 'Black/White'\n",
    "        else: \n",
    "            pass\n",
    "\n",
    "    \n",
    "cats['Color'] = cats['Color'].apply(color_consolidate)\n",
    "\n",
    "#now we will categorize each cats hair length by their breed type\n",
    "#this was done manually by researching each breed and make a judgement call on the length of their hair\n",
    "#first create a new column for their hair length\n",
    "ShortHair = ('Devon Rex','Bengal','Siamese','Snowshoe','Russian Blue','Japanese Bobtail', \\\n",
    "    'Balinese','Bombay','Tonkinese','Sphynx','Abyssinian','Javanese','Cornish Rex', \\\n",
    "    'Ocicat','Havana','Burmese')\n",
    "MediumHair = ('Manx','Turkish Van','Cymric','Ragdoll')\n",
    "LongHair = ('Maine Coon','Himalayan','Persian','Angora','Norwegian Forest')\n",
    "\n",
    "def asign_hair_length(hair):\n",
    "    if 'Shorthair' in hair:\n",
    "        return 'Shorthair'\n",
    "    elif 'Medium Hair' in hair:\n",
    "        return 'Medium Hair'\n",
    "    elif 'Longhair' in hair:\n",
    "        return 'Longhair'\n",
    "    else:\n",
    "        pass\n",
    "    \n",
    "    for breeds in ShortHair:\n",
    "        if breeds in hair: \n",
    "            return 'Shorthair'\n",
    "        else:\n",
    "            pass\n",
    "    for breeds in LongHair:\n",
    "        if breeds in hair: \n",
    "            return 'Longhair'\n",
    "        else:\n",
    "            pass\n",
    "    for breeds in MediumHair:\n",
    "        if breeds in hair: \n",
    "            return 'Medium Hair'\n",
    "        else:\n",
    "            pass\n",
    "    \n",
    "cats['Hair Length'] = cats['Breed'].apply(asign_hair_length)\n",
    "\n",
    "\n",
    "#dividing the breeds between domestic and exotic\n",
    "#exotic meaning rarer breeds\n",
    "def asign_breed_type(breeds):\n",
    "    \n",
    "    if 'Domestic' in breeds:\n",
    "        return 'Domestic'\n",
    "    else:\n",
    "        return 'Exotic'\n",
    "    \n",
    "cats['Breed Type'] = cats['Breed'].apply(asign_breed_type)\n",
    "\n",
    "\n",
    "#convert age into years\n",
    "def age_in_years(age):\n",
    "    if 'years' in age:\n",
    "        age = int(age.replace('years',''))\n",
    "    elif 'year' in age:\n",
    "        age = int(age.replace('year',''))\n",
    "    elif 'months' in age:\n",
    "        age = int(age.replace('months','')) / 12.0\n",
    "    elif 'month' in age:\n",
    "        age = int(age.replace('month','')) / 12.0\n",
    "    elif 'weeks' in age:\n",
    "        age = int(age.replace('weeks','')) / 52.0\n",
    "    elif 'week' in age:\n",
    "        age = int(age.replace('week','')) / 52.0\n",
    "    else:\n",
    "        age = 0\n",
    "    return float(age)    \n",
    "    \n",
    "cats['Age in Years'] = cats['AgeuponOutcome'].apply(age_in_years)"
   ]
  },
  {
   "cell_type": "markdown",
   "metadata": {},
   "source": [
    "### Initial Visualizations "
   ]
  },
  {
   "cell_type": "markdown",
   "metadata": {},
   "source": [
    "Before fitting the data to the model, we'll do some initial visualizations. Based on intuition I would expect age, color/breed and whether the cat was spayed/neutered to play large roles in adoption rates. \n",
    "\n",
    "Below is a bar chart of color and whether they were adopted or not. As can be seen the green bars (adopted) with the least difference to the blue bars (not adopted) are the more exotic colors such as Lynx point and Seal point. "
   ]
  },
  {
   "cell_type": "code",
   "execution_count": 5,
   "metadata": {
    "collapsed": false
   },
   "outputs": [
    {
     "data": {
      "image/png": "[encoded data removed]",
      "text/plain": [
       "<matplotlib.figure.Figure at 0x1188fbfd0>"
      ]
     },
     "metadata": {},
     "output_type": "display_data"
    }
   ],
   "source": [
    "plot1 = sns.countplot(x='Color', hue='Adopted',data=cats)\n",
    "for item in plot1.get_xticklabels():\n",
    "    item.set_rotation(90)\n",
    "\n",
    "plot1.figure.set_size_inches(8,8)"
   ]
  },
  {
   "cell_type": "markdown",
   "metadata": {
    "collapsed": true
   },
   "source": [
    "Next is a kernal density plot of the age distribution with regards to adoption. From the chart it is evident that adoption rates are densely packed between 0-1 year old, which is to be expected. Kittens and young cats are expected to have an easier time with getting adopted. "
   ]
  },
  {
   "cell_type": "code",
   "execution_count": 11,
   "metadata": {
    "collapsed": false
   },
   "outputs": [
    {
     "data": {
      "text/plain": [
       "<matplotlib.axes._subplots.AxesSubplot at 0x11b85f3d0>"
      ]
     },
     "execution_count": 11,
     "metadata": {},
     "output_type": "execute_result"
    },
    {
     "data": {
      "image/png": "[encoded data removed]",
      "text/plain": [
       "<matplotlib.figure.Figure at 0x11b877810>"
      ]
     },
     "metadata": {},
     "output_type": "display_data"
    }
   ],
   "source": [
    "age_plot = cats[cats['Adopted']==1]\n",
    "age_plot = age_plot['Age in Years']\n",
    "sns.distplot(age_plot,hist=False)"
   ]
  },
  {
   "cell_type": "markdown",
   "metadata": {},
   "source": [
    "### Data Preparation part 2 - Dummy variables "
   ]
  },
  {
   "cell_type": "markdown",
   "metadata": {},
   "source": [
    "We'll now continue to finalize our data preparation by creating dummy variables for breed, color and hair length. Also note that a column from each set of category was dropped to help mitigate multicollinearity in our model. "
   ]
  },
  {
   "cell_type": "code",
   "execution_count": 7,
   "metadata": {
    "collapsed": true
   },
   "outputs": [],
   "source": [
    "#create dummies for Hair Length, Breed Type and Color\n",
    "hair_dummies = pd.get_dummies(cats['Hair Length'])\n",
    "breed_dummies = pd.get_dummies(cats['Breed Type'])\n",
    "color_dummies = pd.get_dummies(cats['Color'])\n",
    "\n",
    "#create a new dataframe X to run our model\n",
    "X = cats.drop(['AgeuponOutcome','Breed','Color','Sex','Neutered','Hair Length','Breed Type'], axis=1)\n",
    "\n",
    "#concatenate the dummies\n",
    "dummies = pd.concat([hair_dummies,breed_dummies,color_dummies],axis=1)\n",
    "\n",
    "#concatenate to the base dataframe X \n",
    "X = pd.concat([X,dummies],axis=1)\n",
    "\n",
    "#prepare for target Y\n",
    "Y = X.Adopted\n",
    "\n",
    "#drop Adopted from X\n",
    "X = X.drop('Adopted',axis=1)\n",
    "\n",
    "#drop a column from each set of dummy to avoid multicollinearity\n",
    "X = X.drop(['Shorthair','Domestic','Blue/White','Seal Point'],axis=1)\n",
    "#drop all unknown related categories as it may distort the model\n",
    "X = X.drop(['Male','Female','NeuteredSpayed','Intact'],axis=1)\n",
    "\n",
    "#flatten Y array in order to use scikit learn\n",
    "Y = np.ravel(Y)"
   ]
  },
  {
   "cell_type": "markdown",
   "metadata": {},
   "source": [
    "### Logistic Regression"
   ]
  },
  {
   "cell_type": "markdown",
   "metadata": {},
   "source": [
    "With the dataframe X setup complete, we can now use Scikit Learn to run our Logistic Regression. "
   ]
  },
  {
   "cell_type": "code",
   "execution_count": 8,
   "metadata": {
    "collapsed": false
   },
   "outputs": [
    {
     "data": {
      "text/plain": [
       "0.73019579665888268"
      ]
     },
     "execution_count": 8,
     "metadata": {},
     "output_type": "execute_result"
    }
   ],
   "source": [
    "model = LogisticRegression()\n",
    "model.fit(X,Y)\n",
    "model.score(X,Y)"
   ]
  },
  {
   "cell_type": "code",
   "execution_count": 9,
   "metadata": {
    "collapsed": false
   },
   "outputs": [
    {
     "data": {
      "text/plain": [
       "0.6163104005748159"
      ]
     },
     "execution_count": 9,
     "metadata": {},
     "output_type": "execute_result"
    }
   ],
   "source": [
    "#null error rate\n",
    "1 - Y.mean()"
   ]
  },
  {
   "cell_type": "markdown",
   "metadata": {},
   "source": [
    "From our model we obtained a 73% accuracy score for out Logistic Regression model. Next step is to check to see how much better or worse our model is compared to the null error rate. The null error rate was 62% which meant that the model was 11% than if we had guessed every outcome was null. \n",
    "\n",
    "Now lets take a look at the coefficients and Odds ratio to see which of the features played a larger role in determining the adoption outcome."
   ]
  },
  {
   "cell_type": "code",
   "execution_count": 13,
   "metadata": {
    "collapsed": false
   },
   "outputs": [
    {
     "data": {
      "text/html": [
       "<div>\n",
       "<table border=\"1\" class=\"dataframe\">\n",
       "  <thead>\n",
       "    <tr style=\"text-align: right;\">\n",
       "      <th></th>\n",
       "      <th>Features</th>\n",
       "      <th>Coefficient</th>\n",
       "      <th>Odds Ratio</th>\n",
       "    </tr>\n",
       "  </thead>\n",
       "  <tbody>\n",
       "    <tr>\n",
       "      <th>0</th>\n",
       "      <td>Name</td>\n",
       "      <td>[2.42217842407]</td>\n",
       "      <td>[11.2703842687]</td>\n",
       "    </tr>\n",
       "    <tr>\n",
       "      <th>1</th>\n",
       "      <td>Age in Years</td>\n",
       "      <td>[-0.144884403409]</td>\n",
       "      <td>[0.865122292518]</td>\n",
       "    </tr>\n",
       "    <tr>\n",
       "      <th>2</th>\n",
       "      <td>Longhair</td>\n",
       "      <td>[0.18547061325]</td>\n",
       "      <td>[1.20378482393]</td>\n",
       "    </tr>\n",
       "    <tr>\n",
       "      <th>3</th>\n",
       "      <td>Medium Hair</td>\n",
       "      <td>[0.180291673276]</td>\n",
       "      <td>[1.19756661036]</td>\n",
       "    </tr>\n",
       "    <tr>\n",
       "      <th>4</th>\n",
       "      <td>Exotic</td>\n",
       "      <td>[0.234896003403]</td>\n",
       "      <td>[1.26477722937]</td>\n",
       "    </tr>\n",
       "    <tr>\n",
       "      <th>5</th>\n",
       "      <td>Black</td>\n",
       "      <td>[-0.187432164539]</td>\n",
       "      <td>[0.82908535766]</td>\n",
       "    </tr>\n",
       "    <tr>\n",
       "      <th>6</th>\n",
       "      <td>Black/White</td>\n",
       "      <td>[-0.192612473282]</td>\n",
       "      <td>[0.82480154485]</td>\n",
       "    </tr>\n",
       "    <tr>\n",
       "      <th>7</th>\n",
       "      <td>Blue</td>\n",
       "      <td>[0.0281816607871]</td>\n",
       "      <td>[1.02858252056]</td>\n",
       "    </tr>\n",
       "    <tr>\n",
       "      <th>8</th>\n",
       "      <td>Lynx Point</td>\n",
       "      <td>[0.232282237563]</td>\n",
       "      <td>[1.26147571442]</td>\n",
       "    </tr>\n",
       "    <tr>\n",
       "      <th>9</th>\n",
       "      <td>Tabby</td>\n",
       "      <td>[0.0579912767139]</td>\n",
       "      <td>[1.05970575155]</td>\n",
       "    </tr>\n",
       "    <tr>\n",
       "      <th>10</th>\n",
       "      <td>Torbie/Tortie/Calico</td>\n",
       "      <td>[0.0208625660021]</td>\n",
       "      <td>[1.02108171065]</td>\n",
       "    </tr>\n",
       "    <tr>\n",
       "      <th>11</th>\n",
       "      <td>Unique Color</td>\n",
       "      <td>[0.0783884301848]</td>\n",
       "      <td>[1.08154268091]</td>\n",
       "    </tr>\n",
       "    <tr>\n",
       "      <th>12</th>\n",
       "      <td>White</td>\n",
       "      <td>[-0.117386535991]</td>\n",
       "      <td>[0.889241402917]</td>\n",
       "    </tr>\n",
       "  </tbody>\n",
       "</table>\n",
       "</div>"
      ],
      "text/plain": [
       "                Features        Coefficient        Odds Ratio\n",
       "0                   Name    [2.42217842407]   [11.2703842687]\n",
       "1           Age in Years  [-0.144884403409]  [0.865122292518]\n",
       "2               Longhair    [0.18547061325]   [1.20378482393]\n",
       "3            Medium Hair   [0.180291673276]   [1.19756661036]\n",
       "4                 Exotic   [0.234896003403]   [1.26477722937]\n",
       "5                  Black  [-0.187432164539]   [0.82908535766]\n",
       "6            Black/White  [-0.192612473282]   [0.82480154485]\n",
       "7                   Blue  [0.0281816607871]   [1.02858252056]\n",
       "8             Lynx Point   [0.232282237563]   [1.26147571442]\n",
       "9                  Tabby  [0.0579912767139]   [1.05970575155]\n",
       "10  Torbie/Tortie/Calico  [0.0208625660021]   [1.02108171065]\n",
       "11          Unique Color  [0.0783884301848]   [1.08154268091]\n",
       "12                 White  [-0.117386535991]  [0.889241402917]"
      ]
     },
     "execution_count": 13,
     "metadata": {},
     "output_type": "execute_result"
    }
   ],
   "source": [
    "#create a coefficient dataframe\n",
    "coef = DataFrame(zip(X.columns,np.transpose(model.coef_)))\n",
    "coef.columns = ['Features','Coefficient']\n",
    "\n",
    "#odds ratio\n",
    "def odds_ratio(value):\n",
    "\n",
    "    for col in value:\n",
    "        return np.exp(value)\n",
    "    else:\n",
    "        pass\n",
    "\n",
    "coef['Odds Ratio'] = coef['Coefficient'].apply(odds_ratio)\n",
    "coef"
   ]
  },
  {
   "cell_type": "markdown",
   "metadata": {},
   "source": [
    "With the Odds Ratio computed we can do a deeper dive into analyzing which features played a larger role in determining whether a cat will get adopted or not. \n",
    "\n",
    "Let's point to some of the more obvious results first. Age in Years had a 0.87 ratio and as you would expect as a cats age increase, the odds of it being adopted will be lower. Cats with medium/long hair would have a higher ratio than if they were short. This is inline with the high odds ratio of exotic breeds and lynx point, which points to the fact that rarer/exotic cats have a increased likelihood of adoption. Long/medium hair cats are generally associated with rarer breeds. \n",
    "\n",
    "The most interesting and surprising insight coming out of this model was the extremely high odds ration of the Name feature. What this means is cats that have a name are much more likely to get adopted than cats that have no name. This will be an interesting study going forward to see whether giving the adoption animal a name will increase their chance of adoption. "
   ]
  },
  {
   "cell_type": "markdown",
   "metadata": {},
   "source": [
    "### Train and Test the data"
   ]
  },
  {
   "cell_type": "markdown",
   "metadata": {},
   "source": [
    "Now that we've evaluated the model, it is time to split the data to train and test the model. "
   ]
  },
  {
   "cell_type": "code",
   "execution_count": 14,
   "metadata": {
    "collapsed": false
   },
   "outputs": [
    {
     "name": "stdout",
     "output_type": "stream",
     "text": [
      "0.744971264368\n"
     ]
    }
   ],
   "source": [
    "X_train, X_test, Y_train, Y_test = train_test_split(X,Y)\n",
    "model_2 = LogisticRegression()\n",
    "model_2.fit(X_train,Y_train)\n",
    "\n",
    "prediction = model_2.predict(X_test)\n",
    "\n",
    "print metrics.accuracy_score(Y_test,prediction)"
   ]
  },
  {
   "cell_type": "markdown",
   "metadata": {},
   "source": [
    "With the data split into testing and training, we were able to obtain a 74% accuracy score, which was similar to our original score.\n",
    "\n",
    "\n",
    "\n",
    "I hope this analysis of sheltered animals provided some interesting insights and ideas. Thank you very much for reading through this analysis and hope you've enjoyed it as much as I did.\n",
    "\n",
    "Mitsuaki Takeo"
   ]
  }
 ],
 "metadata": {
  "kernelspec": {
   "display_name": "Python 2",
   "language": "python",
   "name": "python2"
  },
  "language_info": {
   "codemirror_mode": {
    "name": "ipython",
    "version": 2
   },
   "file_extension": ".py",
   "mimetype": "text/x-python",
   "name": "python",
   "nbconvert_exporter": "python",
   "pygments_lexer": "ipython2",
   "version": "2.7.11"
  }
 },
 "nbformat": 4,
 "nbformat_minor": 0
}
